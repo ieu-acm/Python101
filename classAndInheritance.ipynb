{
 "cells": [
  {
   "cell_type": "markdown",
   "metadata": {},
   "source": [
    "# IEU ACM Python'a Giriş - Sınıflar ve Inheritance"
   ]
  },
  {
   "cell_type": "markdown",
   "metadata": {},
   "source": [
    "# Class"
   ]
  },
  {
   "cell_type": "code",
   "execution_count": 16,
   "metadata": {},
   "outputs": [
    {
     "name": "stdout",
     "output_type": "stream",
     "text": [
      "asd\n",
      "asd\n",
      "Kullanıcı adı: asd\n",
      "Şifre: asd\n"
     ]
    }
   ],
   "source": [
    "class User:\n",
    "    # constructor\n",
    "    def __init__(self, username, password): #self, fonksiyon içindeki username'e ekle demek, yani içinde barındır demektir.\n",
    "        # attributes\n",
    "        self.username = username\n",
    "        self.password = password\n",
    "\n",
    "u1 = User(str(input()), str(input()))\n",
    "\n",
    "print(f\"Kullanıcı adı: {u1.username}\")\n",
    "print(f\"Şifre: {u1.password}\")\n"
   ]
  },
  {
   "cell_type": "markdown",
   "metadata": {},
   "source": [
    "# Inheritance"
   ]
  },
  {
   "cell_type": "code",
   "execution_count": 5,
   "metadata": {},
   "outputs": [
    {
     "name": "stdout",
     "output_type": "stream",
     "text": [
      "Alican\n",
      "AKCA\n",
      "('Alican', 'AKCA') False\n",
      "Alican\n",
      "AKCA\n",
      "('Alican', 'AKCA') True\n"
     ]
    }
   ],
   "source": [
    "class Person(): \n",
    "       \n",
    "    # Constructor \n",
    "    def __init__(self, fname, lname): \n",
    "        self.fname = fname\n",
    "        self.lname = lname\n",
    "    \n",
    "    # To get name \n",
    "    def getName(self): \n",
    "        return self.fname , self.lname\n",
    "   \n",
    "    # To check if this person is an employee \n",
    "    def isEmployee(self): \n",
    "        return False\n",
    "   \n",
    "   \n",
    "# Inherited or Subclass (Note Person in bracket) \n",
    "class Employee(Person): \n",
    "   \n",
    "    # Here we return true \n",
    "    def isEmployee(self): \n",
    "        return True\n",
    "   \n",
    "emp1 = Person(str(input()),str(input()))  # An Object of Person \n",
    "print(emp1.getName(), emp1.isEmployee()) \n",
    "\n",
    "emp2 = Employee(str(input()),str(input())) # An Object of Employee \n",
    "print(emp2.getName(), emp2.isEmployee()) "
   ]
  },
  {
   "cell_type": "code",
   "execution_count": null,
   "metadata": {},
   "outputs": [],
   "source": []
  }
 ],
 "metadata": {
  "kernelspec": {
   "display_name": "Python 3",
   "language": "python",
   "name": "python3"
  },
  "language_info": {
   "codemirror_mode": {
    "name": "ipython",
    "version": 3
   },
   "file_extension": ".py",
   "mimetype": "text/x-python",
   "name": "python",
   "nbconvert_exporter": "python",
   "pygments_lexer": "ipython3",
   "version": "3.8.5"
  }
 },
 "nbformat": 4,
 "nbformat_minor": 4
}
