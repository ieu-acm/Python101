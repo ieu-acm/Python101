{
 "cells": [
  {
   "cell_type": "markdown",
   "metadata": {},
   "source": [
    "# IEU ACM Python'a Giriş - Koşul İfadeleri"
   ]
  },
  {
   "cell_type": "code",
   "execution_count": 2,
   "metadata": {},
   "outputs": [
    {
     "name": "stdout",
     "output_type": "stream",
     "text": [
      "admin\n",
      "admimnn\n",
      "Yanlış şifre girildi.\n"
     ]
    }
   ],
   "source": [
    "username = input()\n",
    "password = input()\n",
    "\n",
    "if (username == \"admin\"):\n",
    "    if (password == \"admin\"):\n",
    "        print(\"Merhaba!\")\n",
    "    else:\n",
    "        print(\"Yanlış şifre girildi.\")\n",
    "else:\n",
    "    print(\"Yanlış kullanıcı adı girildi.\")\n",
    "    \n"
   ]
  },
  {
   "cell_type": "code",
   "execution_count": 3,
   "metadata": {},
   "outputs": [
    {
     "name": "stdout",
     "output_type": "stream",
     "text": [
      "Sayı girin: -1\n",
      "Sayınız negatif\n"
     ]
    }
   ],
   "source": [
    "sayı = int(input('Sayı girin: '))\n",
    "if sayı > 0:\n",
    "    print('Sayınız pozitif')\n",
    "elif sayı < 0:\n",
    "    print('Sayınız negatif')"
   ]
  },
  {
   "cell_type": "code",
   "execution_count": 5,
   "metadata": {},
   "outputs": [
    {
     "name": "stdout",
     "output_type": "stream",
     "text": [
      "a\n",
      "a\n",
      "Kelimeler aynı\n"
     ]
    }
   ],
   "source": [
    "x = input()\n",
    "y = input()\n",
    "if (x !=y):\n",
    "    print(\"Kelimeler aynı değil\")\n",
    "else:\n",
    "    print(\"Kelimeler aynı\")"
   ]
  },
  {
   "cell_type": "code",
   "execution_count": null,
   "metadata": {},
   "outputs": [],
   "source": []
  }
 ],
 "metadata": {
  "kernelspec": {
   "display_name": "Python 3",
   "language": "python",
   "name": "python3"
  },
  "language_info": {
   "codemirror_mode": {
    "name": "ipython",
    "version": 3
   },
   "file_extension": ".py",
   "mimetype": "text/x-python",
   "name": "python",
   "nbconvert_exporter": "python",
   "pygments_lexer": "ipython3",
   "version": "3.8.5"
  }
 },
 "nbformat": 4,
 "nbformat_minor": 4
}
