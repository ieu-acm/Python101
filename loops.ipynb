{
 "cells": [
  {
   "cell_type": "markdown",
   "metadata": {},
   "source": [
    "# IEU ACM Python'a Giriş - Döngüler"
   ]
  },
  {
   "cell_type": "markdown",
   "metadata": {},
   "source": [
    "# For Döngüsü"
   ]
  },
  {
   "cell_type": "code",
   "execution_count": 6,
   "metadata": {},
   "outputs": [
    {
     "name": "stdout",
     "output_type": "stream",
     "text": [
      "1 Merhaba\n",
      "2 Merhaba\n",
      "3 Merhaba\n",
      "4 Merhaba\n",
      "5 Merhaba\n"
     ]
    }
   ],
   "source": [
    "sayılar = [1,2,3,4,5]\n",
    "\n",
    "for sayı in sayılar:\n",
    "    print(sayı , \"Merhaba\")"
   ]
  },
  {
   "cell_type": "code",
   "execution_count": 7,
   "metadata": {},
   "outputs": [
    {
     "name": "stdout",
     "output_type": "stream",
     "text": [
      "Fonksiyon 0 ve 0 noktalarından geçer.\n",
      "Fonksiyon 1 ve 1 noktalarından geçer.\n",
      "Fonksiyon 2 ve 4 noktalarından geçer.\n",
      "Fonksiyon 3 ve 9 noktalarından geçer.\n"
     ]
    }
   ],
   "source": [
    "xkare = [(0,0),(1,1),(2,4),(3,9)]\n",
    "for x,y in xkare:\n",
    "    print(f\"Fonksiyon {x} ve {y} noktalarından geçer.\")"
   ]
  },
  {
   "cell_type": "code",
   "execution_count": 1,
   "metadata": {},
   "outputs": [
    {
     "name": "stdout",
     "output_type": "stream",
     "text": [
      "[(1, 1), (2, 4), (3, 9), (4, 16), (5, 25), (6, 36), (7, 49), (8, 64), (9, 81)]\n"
     ]
    }
   ],
   "source": [
    "list=[1,2,3,4,5,6,7,8,9,10]\n",
    "list =[(i,i**2) for i in range(1, max(list))]\n",
    "print(list)"
   ]
  },
  {
   "cell_type": "code",
   "execution_count": 18,
   "metadata": {},
   "outputs": [
    {
     "name": "stdout",
     "output_type": "stream",
     "text": [
      "Pozitif sayı girin: \n",
      "10\n",
      "Sayı Asal Değildir.\n"
     ]
    }
   ],
   "source": [
    "print(\"Pozitif sayı girin: \")\n",
    "sayi = int(input())\n",
    "\n",
    "if (sayi<0 ):\n",
    "    print(\"Pozitif sayı girin: \")\n",
    "    sayi = int(input())\n",
    "    \n",
    "for i in range(2, sayi):\n",
    "    if (sayi % i == 0):\n",
    "        asal = False\n",
    "        break\n",
    "if asal:\n",
    "    print(\"Sayı asaldır.\")\n",
    "else:\n",
    "    print(\"Sayı Asal Değildir.\")"
   ]
  },
  {
   "cell_type": "markdown",
   "metadata": {},
   "source": [
    "# While Döngüsü"
   ]
  },
  {
   "cell_type": "code",
   "execution_count": 21,
   "metadata": {},
   "outputs": [
    {
     "name": "stdout",
     "output_type": "stream",
     "text": [
      "1\n",
      "2\n",
      "3\n",
      "4\n",
      "5\n",
      "6\n",
      "7\n",
      "8\n",
      "9\n",
      "10\n"
     ]
    }
   ],
   "source": [
    "x = 1\n",
    "while x<=10:\n",
    "    print(x)\n",
    "    x+=1\n",
    "    "
   ]
  },
  {
   "cell_type": "code",
   "execution_count": null,
   "metadata": {},
   "outputs": [
    {
     "name": "stdout",
     "output_type": "stream",
     "text": [
      "Pozitif sayı girin: \n",
      "-1\n",
      "Pozitif sayı girin: \n",
      "-1\n",
      "Pozitif sayı girin: \n",
      "-1\n",
      "Pozitif sayı girin: \n",
      "-1\n",
      "Pozitif sayı girin: \n",
      "-1\n",
      "Pozitif sayı girin: \n",
      "10\n"
     ]
    }
   ],
   "source": [
    "print(\"Pozitif sayı girin: \")\n",
    "sayi = int(input())\n",
    "while True:\n",
    "    if (sayi<0 ):\n",
    "        print(\"Pozitif sayı girin: \")\n",
    "        sayi = int(input())"
   ]
  },
  {
   "cell_type": "code",
   "execution_count": null,
   "metadata": {},
   "outputs": [],
   "source": []
  }
 ],
 "metadata": {
  "kernelspec": {
   "display_name": "Python 3",
   "language": "python",
   "name": "python3"
  },
  "language_info": {
   "codemirror_mode": {
    "name": "ipython",
    "version": 3
   },
   "file_extension": ".py",
   "mimetype": "text/x-python",
   "name": "python",
   "nbconvert_exporter": "python",
   "pygments_lexer": "ipython3",
   "version": "3.8.5"
  }
 },
 "nbformat": 4,
 "nbformat_minor": 4
}
