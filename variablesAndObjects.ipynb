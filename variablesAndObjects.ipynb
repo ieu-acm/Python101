{
 "cells": [
  {
   "cell_type": "markdown",
   "metadata": {},
   "source": [
    "# IEU ACM Python'a Giriş - Veri Yapıları ve Objeler"
   ]
  },
  {
   "cell_type": "markdown",
   "metadata": {},
   "source": [
    "## String ve Integer"
   ]
  },
  {
   "cell_type": "code",
   "execution_count": 29,
   "metadata": {},
   "outputs": [
    {
     "name": "stdout",
     "output_type": "stream",
     "text": [
      "Alican Akca 19\n"
     ]
    }
   ],
   "source": [
    "\n",
    "name = \"Alican\"\n",
    "surname = \"Akca\"\n",
    "age = 19\n",
    "print(name , surname, age)"
   ]
  },
  {
   "cell_type": "markdown",
   "metadata": {},
   "source": [
    "# f String"
   ]
  },
  {
   "cell_type": "code",
   "execution_count": 29,
   "metadata": {},
   "outputs": [
    {
     "name": "stdout",
     "output_type": "stream",
     "text": [
      "İsmim Alican Akca , 19  yaşındayım.\n",
      "İsmim Alican Akca , 19  yaşındayım.\n"
     ]
    }
   ],
   "source": [
    "\n",
    "\n",
    "name = \"Alican\"\n",
    "surname = \"Akca\"\n",
    "age = 19 \n",
    "message = f\"İsmim {name} {surname} , {str(age)}  yaşındayım.\"\n",
    "message2 = \"İsmim {0} {1} , {2}  yaşındayım.\".format(name,surname,age)\n",
    "print(message)\n",
    "print(message2)"
   ]
  },
  {
   "cell_type": "markdown",
   "metadata": {},
   "source": [
    "# % String"
   ]
  },
  {
   "cell_type": "code",
   "execution_count": 20,
   "metadata": {},
   "outputs": [
    {
     "data": {
      "text/plain": [
       "'İsmim Alican Akca , 19 yaşındayım.'"
      ]
     },
     "execution_count": 20,
     "metadata": {},
     "output_type": "execute_result"
    }
   ],
   "source": [
    "\n",
    "name = \"Alican\"\n",
    "surname = \"Akca\"\n",
    "age = 19 \n",
    "message = \"İsmim %s %s , %s yaşındayım.\" % (name,surname,age)\n"
   ]
  },
  {
   "cell_type": "code",
   "execution_count": 46,
   "metadata": {},
   "outputs": [
    {
     "name": "stdout",
     "output_type": "stream",
     "text": [
      "i̇smim alican akca , 19  yaşındayım.\n",
      "İSMIM ALICAN AKCA , 19  YAŞINDAYIM.\n",
      "İsmim Alican Akca , 19  Yaşındayım.\n",
      "İsmim alican akca , 19  yaşındayım.\n",
      "<class 'bool'>\n",
      "False\n"
     ]
    }
   ],
   "source": [
    "name = \"Alican\"\n",
    "surname = \"Akca\"\n",
    "age = 19 \n",
    "\n",
    "# name, surname, age = \"alican\",\"akca\",19\n",
    "\n",
    "message = f\"İsmim {name} {surname} , {str(age)}  yaşındayım.\"\n",
    "\n",
    "print(message.lower())\n",
    "print(message.upper())\n",
    "print(message.title())\n",
    "print(message.capitalize())\n",
    "\n",
    "result = message.split(\" \")\n",
    "#print(result)\n",
    "#print(type(result))\n",
    "\n",
    "result = message.replace(\".\",\"...\")\n",
    "#print(message)\n",
    "#print(result)\n",
    "#print(type(result))\n",
    "\n",
    "result = message.index(\".\")\n",
    "#print(result)\n",
    "#print(type(result))\n",
    "\n"
   ]
  },
  {
   "cell_type": "markdown",
   "metadata": {},
   "source": [
    "# Boolean"
   ]
  },
  {
   "cell_type": "code",
   "execution_count": null,
   "metadata": {},
   "outputs": [],
   "source": [
    "\n",
    "message = f\"İsmim {name} {surname} , {str(age)}  yaşındayım.\"\n",
    "\n",
    "result = message.isalpha() #isdigit\n",
    "print(type(result))\n",
    "print(result)"
   ]
  },
  {
   "cell_type": "markdown",
   "metadata": {},
   "source": [
    "# Float"
   ]
  },
  {
   "cell_type": "code",
   "execution_count": 52,
   "metadata": {
    "scrolled": true
   },
   "outputs": [
    {
     "name": "stdout",
     "output_type": "stream",
     "text": [
      "3.142857142857143\n",
      "<class 'float'>\n",
      "The pi is 3.14\n"
     ]
    }
   ],
   "source": [
    "\n",
    "\n",
    "fakePi = 22/7\n",
    "\n",
    "print(fakePi)\n",
    "print(type(fakePi))\n",
    "print(\"The fakePi is {f:1.3}\".format(f=fakePi))"
   ]
  },
  {
   "cell_type": "markdown",
   "metadata": {},
   "source": [
    "# Complex"
   ]
  },
  {
   "cell_type": "code",
   "execution_count": null,
   "metadata": {},
   "outputs": [],
   "source": [
    "\n",
    "number = complex(1,1)\n",
    "print(number)\n",
    "print(type(number))"
   ]
  },
  {
   "cell_type": "markdown",
   "metadata": {},
   "source": [
    "# Lists"
   ]
  },
  {
   "cell_type": "code",
   "execution_count": 4,
   "metadata": {
    "scrolled": true
   },
   "outputs": [
    {
     "name": "stdout",
     "output_type": "stream",
     "text": [
      "['Merhaba', 'Dünya!']\n"
     ]
    }
   ],
   "source": [
    "\n",
    "\n",
    "epicMessage = \"Hello World!\".split()\n",
    "#print(epicMessage)\n",
    "\n",
    "epicMessage.append(\"Merhaba\")\n",
    "epicMessage.append(\"Dünyaaaa!\")                   \n",
    "#print(epicMessage)\n",
    "\n",
    "epicMessage[3] = \"Dünya!\"\n",
    "#print(epicMessage)\n",
    "\n",
    "epicMessage.remove(\"Hello\")\n",
    "#print(epicMessage)\n",
    "\n",
    "epicMessage.pop(0)\n",
    "#print(epicMessage)\n",
    "\n",
    "#print(len(epicMessage))\n",
    "epicMessage.clear()\n",
    "#print(len(epicMessage))\n",
    "\n",
    "result = \"Mars\" in epicMessage\n",
    "#print(result)\n",
    "\n",
    "epicList = [1,\"bir\",True,3.14, 1+1j]\n",
    "#print(type(epicList[2]))\n",
    "\n",
    "epicList2 = [\"50\", 40,False, 2.71, 1-1j]\n",
    "#print(epicList + epicList2)\n",
    "\n",
    "numbers = [1,3,5,9,40,8,2,7,40]\n",
    "\n",
    "numbers.sort()\n",
    "#print(numbers)\n",
    "\n",
    "numbers.reverse()\n",
    "#print(numbers)\n",
    "\n",
    "#print(numbers.count(7)) # 1 var, 0 yok\n",
    "\n"
   ]
  },
  {
   "cell_type": "markdown",
   "metadata": {},
   "source": [
    "# Tuple\n"
   ]
  },
  {
   "cell_type": "code",
   "execution_count": 16,
   "metadata": {},
   "outputs": [
    {
     "name": "stdout",
     "output_type": "stream",
     "text": [
      "<class 'list'>\n",
      "<class 'tuple'>\n",
      "('demet', 'emel', 'ayşe', 3, 'iki', 2)\n",
      "1\n",
      "0\n"
     ]
    },
    {
     "ename": "AttributeError",
     "evalue": "'tuple' object has no attribute 'clear'",
     "output_type": "error",
     "traceback": [
      "\u001b[1;31m---------------------------------------------------------------------------\u001b[0m",
      "\u001b[1;31mAttributeError\u001b[0m                            Traceback (most recent call last)",
      "\u001b[1;32m<ipython-input-16-2c2e58afaf40>\u001b[0m in \u001b[0;36m<module>\u001b[1;34m\u001b[0m\n\u001b[0;32m     11\u001b[0m \u001b[0mprint\u001b[0m\u001b[1;33m(\u001b[0m\u001b[0mtuple\u001b[0m\u001b[1;33m.\u001b[0m\u001b[0mindex\u001b[0m\u001b[1;33m(\u001b[0m\u001b[1;34m'demet'\u001b[0m\u001b[1;33m)\u001b[0m\u001b[1;33m)\u001b[0m\u001b[1;33m\u001b[0m\u001b[1;33m\u001b[0m\u001b[0m\n\u001b[0;32m     12\u001b[0m \u001b[1;33m\u001b[0m\u001b[0m\n\u001b[1;32m---> 13\u001b[1;33m \u001b[0mtuple\u001b[0m\u001b[1;33m.\u001b[0m\u001b[0mclear\u001b[0m\u001b[1;33m(\u001b[0m\u001b[1;33m)\u001b[0m\u001b[1;33m\u001b[0m\u001b[1;33m\u001b[0m\u001b[0m\n\u001b[0m\u001b[0;32m     14\u001b[0m \u001b[0mtuple\u001b[0m\u001b[1;33m.\u001b[0m\u001b[0mappend\u001b[0m\u001b[1;33m(\u001b[0m\u001b[1;34m\"mehmet\"\u001b[0m\u001b[1;33m)\u001b[0m\u001b[1;33m\u001b[0m\u001b[1;33m\u001b[0m\u001b[0m\n\u001b[0;32m     15\u001b[0m \u001b[0mtuple\u001b[0m\u001b[1;33m.\u001b[0m\u001b[0mremove\u001b[0m\u001b[1;33m(\u001b[0m\u001b[1;34m\"ayşe\"\u001b[0m\u001b[1;33m)\u001b[0m\u001b[1;33m\u001b[0m\u001b[1;33m\u001b[0m\u001b[0m\n",
      "\u001b[1;31mAttributeError\u001b[0m: 'tuple' object has no attribute 'clear'"
     ]
    }
   ],
   "source": [
    "\n",
    "list = [araba, 3.14, \"yüz\"]\n",
    "tuple = (3, 'iki', 2)\n",
    "\n",
    "print(type(list))\n",
    "print(type(tuple))\n",
    "\n",
    "tuple = ('araba','gemi','10') + tuple\n",
    "print(tuple)\n",
    "\n",
    "#print(tuple.count('araba'))\n",
    "#print(tuple.index('10'))\n",
    "\n",
    "#tuple.append(\"mehmet\")\n",
    "#tuple.remove(\"ayşe\")\n",
    "\n"
   ]
  },
  {
   "cell_type": "markdown",
   "metadata": {},
   "source": [
    "# Dictionary"
   ]
  },
  {
   "cell_type": "code",
   "execution_count": 23,
   "metadata": {
    "collapsed": true
   },
   "outputs": [
    {
     "name": "stdout",
     "output_type": "stream",
     "text": [
      "666\n"
     ]
    },
    {
     "ename": "KeyError",
     "evalue": "'Ankara'",
     "output_type": "error",
     "traceback": [
      "\u001b[1;31m---------------------------------------------------------------------------\u001b[0m",
      "\u001b[1;31mKeyError\u001b[0m                                  Traceback (most recent call last)",
      "\u001b[1;32m<ipython-input-23-2fef4e7c035d>\u001b[0m in \u001b[0;36m<module>\u001b[1;34m\u001b[0m\n\u001b[0;32m      5\u001b[0m \u001b[0mplaka\u001b[0m\u001b[1;33m.\u001b[0m\u001b[0mpop\u001b[0m\u001b[1;33m(\u001b[0m\u001b[1;34m\"Ankara\"\u001b[0m\u001b[1;33m)\u001b[0m\u001b[1;33m\u001b[0m\u001b[1;33m\u001b[0m\u001b[0m\n\u001b[0;32m      6\u001b[0m \u001b[1;33m\u001b[0m\u001b[0m\n\u001b[1;32m----> 7\u001b[1;33m \u001b[0mprint\u001b[0m\u001b[1;33m(\u001b[0m\u001b[0mplaka\u001b[0m\u001b[1;33m[\u001b[0m\u001b[1;34m\"Ankara\"\u001b[0m\u001b[1;33m]\u001b[0m\u001b[1;33m)\u001b[0m\u001b[1;33m\u001b[0m\u001b[1;33m\u001b[0m\u001b[0m\n\u001b[0m",
      "\u001b[1;31mKeyError\u001b[0m: 'Ankara'"
     ]
    }
   ],
   "source": [
    "plaka = {\"Izmir\" : 35 , \"İstanbul\" : 34 , \"Ankara\" : 666, \"Antalya\" : 7}\n",
    "\n",
    "print(plaka[\"Ankara\"])\n",
    "plaka[\"Ankara\"] = 6\n",
    "\n",
    "#plaka.pop(\"Ankara\")\n",
    "\n",
    "print(plaka[\"Ankara\"])"
   ]
  },
  {
   "cell_type": "code",
   "execution_count": null,
   "metadata": {},
   "outputs": [],
   "source": [
    "name = input(\"Adınız: \")\n",
    "surname = input(\"Soyadınız: \")\n",
    "postCode = input(\"Posta Kodunuz: \")\n",
    "\n",
    "users = {\"ad\": name,\n",
    "        \"soyad\" : surname,\n",
    "        \"posta kodu\" : postCode\n",
    "        }"
   ]
  },
  {
   "cell_type": "markdown",
   "metadata": {},
   "source": [
    "# Set ve Frozenset"
   ]
  },
  {
   "cell_type": "code",
   "execution_count": 34,
   "metadata": {},
   "outputs": [
    {
     "name": "stdout",
     "output_type": "stream",
     "text": [
      "{'çilek', 'elma', 'armut'}\n"
     ]
    },
    {
     "ename": "AttributeError",
     "evalue": "'frozenset' object has no attribute 'remove'",
     "output_type": "error",
     "traceback": [
      "\u001b[1;31m---------------------------------------------------------------------------\u001b[0m",
      "\u001b[1;31mAttributeError\u001b[0m                            Traceback (most recent call last)",
      "\u001b[1;32m<ipython-input-34-6fe814565d9f>\u001b[0m in \u001b[0;36m<module>\u001b[1;34m\u001b[0m\n\u001b[0;32m     11\u001b[0m \u001b[0mmeyveler\u001b[0m \u001b[1;33m=\u001b[0m \u001b[0mfrozenset\u001b[0m\u001b[1;33m(\u001b[0m\u001b[0mmeyveler\u001b[0m\u001b[1;33m)\u001b[0m\u001b[1;33m\u001b[0m\u001b[1;33m\u001b[0m\u001b[0m\n\u001b[0;32m     12\u001b[0m \u001b[1;31m#meyveler.add('nar')\u001b[0m\u001b[1;33m\u001b[0m\u001b[1;33m\u001b[0m\u001b[1;33m\u001b[0m\u001b[0m\n\u001b[1;32m---> 13\u001b[1;33m \u001b[0mmeyveler\u001b[0m\u001b[1;33m.\u001b[0m\u001b[0mremove\u001b[0m\u001b[1;33m(\u001b[0m\u001b[1;34m'elma'\u001b[0m\u001b[1;33m)\u001b[0m\u001b[1;33m\u001b[0m\u001b[1;33m\u001b[0m\u001b[0m\n\u001b[0m",
      "\u001b[1;31mAttributeError\u001b[0m: 'frozenset' object has no attribute 'remove'"
     ]
    }
   ],
   "source": [
    "meyveler = {\"armut\" , \"elma\"}\n",
    "\n",
    "meyveler.add(\"muz\")\n",
    "\n",
    "meyveler.update([\"çilek\",'muz'])\n",
    "\n",
    "meyveler.remove('muz')\n",
    "\n",
    "print(meyveler)\n",
    "\n",
    "meyveler = frozenset(meyveler)\n",
    "#meyveler.add('nar')\n",
    "#meyveler.remove('elma')"
   ]
  },
  {
   "cell_type": "markdown",
   "metadata": {},
   "source": [
    "# Bytes"
   ]
  },
  {
   "cell_type": "code",
   "execution_count": 38,
   "metadata": {},
   "outputs": [
    {
     "name": "stdout",
     "output_type": "stream",
     "text": [
      "255\n",
      "0b11111111 , 255 'ın karşılığıdır.'\n"
     ]
    }
   ],
   "source": [
    "epicByte = 0b11111111\n",
    "print(epicByte)\n",
    "\n",
    "print(f\"{epicByte:#b} , {epicByte} 'ın karşılığıdır.'\")"
   ]
  },
  {
   "cell_type": "code",
   "execution_count": null,
   "metadata": {},
   "outputs": [],
   "source": []
  }
 ],
 "metadata": {
  "kernelspec": {
   "display_name": "Python 3",
   "language": "python",
   "name": "python3"
  },
  "language_info": {
   "codemirror_mode": {
    "name": "ipython",
    "version": 3
   },
   "file_extension": ".py",
   "mimetype": "text/x-python",
   "name": "python",
   "nbconvert_exporter": "python",
   "pygments_lexer": "ipython3",
   "version": "3.8.5"
  }
 },
 "nbformat": 4,
 "nbformat_minor": 4
}
