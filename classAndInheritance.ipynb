{
 "cells": [
  {
   "cell_type": "markdown",
   "metadata": {},
   "source": [
    "# IEU ACM Python'a Giriş - Sınıflar ve Inheritance"
   ]
  },
  {
   "cell_type": "markdown",
   "metadata": {},
   "source": [
    "# Class"
   ]
  },
  {
   "cell_type": "code",
   "execution_count": 16,
   "metadata": {
    "scrolled": true
   },
   "outputs": [
    {
     "name": "stdout",
     "output_type": "stream",
     "text": [
      "asd\n",
      "asd\n",
      "Kullanıcı adı: asd\n",
      "Şifre: asd\n"
     ]
    }
   ],
   "source": [
    "class User:\n",
    "    # constructor\n",
    "    def __init__(self, username, password): #self, fonksiyon içindeki username'e ekle demek, yani içinde barındır demektir.\n",
    "        # attributes\n",
    "        self.username = username\n",
    "        self.password = password\n",
    "\n",
    "u1 = User(str(input()), str(input()))\n",
    "\n",
    "print(f\"Kullanıcı adı: {u1.username}\")\n",
    "print(f\"Şifre: {u1.password}\")\n"
   ]
  },
  {
   "cell_type": "markdown",
   "metadata": {},
   "source": [
    "# Inheritance"
   ]
  },
  {
   "cell_type": "code",
   "execution_count": 4,
   "metadata": {},
   "outputs": [
    {
     "name": "stdout",
     "output_type": "stream",
     "text": [
      "Student\n",
      "40\n",
      "85\n",
      "Student'ın yaşı 40'tır. Notu da 85'tir.\n"
     ]
    }
   ],
   "source": [
    "class ID:\n",
    "    def __init__(self,name,age):\n",
    "        self.name = name\n",
    "        self.age = age\n",
    "    def __str__(self):\n",
    "        return f\"{self.name}'ın yaşı {str(self.age)}'tır. \"\n",
    "\n",
    "class Student(ID):\n",
    "    def __init__(self,name,age,grade):\n",
    "        ID.__init__(self,name,age)\n",
    "        self.grade =grade\n",
    "    def __str__(self):\n",
    "        return ID.__str__(self) + \"Notu da \" + str(self.grade) + \"'tir.\"\n",
    "\n",
    "def test():\n",
    "    st = Student(str(input()),int(input()),int(input()))\n",
    "    print(st)\n",
    "\n",
    "test()"
   ]
  },
  {
   "cell_type": "markdown",
   "metadata": {},
   "source": [
    "# Paket İndirme / Kullanma"
   ]
  },
  {
   "cell_type": "code",
   "execution_count": 1,
   "metadata": {},
   "outputs": [
    {
     "name": "stdout",
     "output_type": "stream",
     "text": [
      "Requirement already satisfied: validate_email in c:\\users\\alican akca\\anaconda3\\lib\\site-packages (1.3)\n"
     ]
    }
   ],
   "source": [
    "!pip install validate_email"
   ]
  },
  {
   "cell_type": "code",
   "execution_count": 5,
   "metadata": {},
   "outputs": [
    {
     "name": "stdout",
     "output_type": "stream",
     "text": [
      "True\n"
     ]
    }
   ],
   "source": [
    "from validate_email import validate_email as ve\n",
    "print(ve(\"alicanakca@ieuacm.com\"))\n"
   ]
  },
  {
   "cell_type": "code",
   "execution_count": null,
   "metadata": {},
   "outputs": [],
   "source": []
  }
 ],
 "metadata": {
  "kernelspec": {
   "display_name": "Python 3",
   "language": "python",
   "name": "python3"
  },
  "language_info": {
   "codemirror_mode": {
    "name": "ipython",
    "version": 3
   },
   "file_extension": ".py",
   "mimetype": "text/x-python",
   "name": "python",
   "nbconvert_exporter": "python",
   "pygments_lexer": "ipython3",
   "version": "3.8.5"
  }
 },
 "nbformat": 4,
 "nbformat_minor": 4
}
