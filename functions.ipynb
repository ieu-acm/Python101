{
 "cells": [
  {
   "cell_type": "markdown",
   "metadata": {},
   "source": [
    "# IEU ACM Python'a Giriş - Fonksiyonlar "
   ]
  },
  {
   "cell_type": "code",
   "execution_count": 6,
   "metadata": {},
   "outputs": [
    {
     "name": "stdout",
     "output_type": "stream",
     "text": [
      "<class 'tuple'>\n",
      "45\n"
     ]
    }
   ],
   "source": [
    "def toplama(*sayılar):\n",
    "    \n",
    "    toplam = 0\n",
    "    print(type(sayılar))\n",
    "    \n",
    "    for sayı in sayılar:\n",
    "        toplam = toplam + sayı\n",
    "    return toplam\n",
    "    \n",
    "print(toplama(1,2,3,4,5,6,7,8,9))"
   ]
  },
  {
   "cell_type": "code",
   "execution_count": 3,
   "metadata": {
    "scrolled": true
   },
   "outputs": [
    {
     "name": "stdout",
     "output_type": "stream",
     "text": [
      "12\n",
      "Alican\n",
      "Alican 12 yaşında olduğundan ehliyet alamaz. Alabilmesine 6 yıl var.\n"
     ]
    },
    {
     "data": {
      "text/plain": [
       "(12, 'Alican')"
      ]
     },
     "execution_count": 3,
     "metadata": {},
     "output_type": "execute_result"
    }
   ],
   "source": [
    "def ehliyet(yas,isim):\n",
    "    if (yas <18):\n",
    "        print(f\"{isim} {yas} yaşında olduğundan ehliyet alamaz. Alabilmesine {18 - yas} yıl var.\")\n",
    "    else: \n",
    "        print(f\"{isim}, ehliyet alabilir.\")\n",
    "    return yas,isim\n",
    "\n",
    "ehliyet(int(input()),input())"
   ]
  },
  {
   "cell_type": "code",
   "execution_count": 3,
   "metadata": {},
   "outputs": [
    {
     "name": "stdout",
     "output_type": "stream",
     "text": [
      "(1, 2, 3, 4, 5, 6, 7)\n",
      "{'key1': 'value 1', 'key2': 'value 2'}\n"
     ]
    }
   ],
   "source": [
    "def epicFunction(*args, **kwargs):\n",
    "    print(args)\n",
    "    print(kwargs)\n",
    "\n",
    "epicFunction(1, 2, 3, 4, 5, 6, 7, key1 = 'value 1', key2 = 'value 2')"
   ]
  },
  {
   "cell_type": "code",
   "execution_count": 4,
   "metadata": {},
   "outputs": [
    {
     "name": "stdout",
     "output_type": "stream",
     "text": [
      "4\n"
     ]
    }
   ],
   "source": [
    "kareAl =  lambda sayı: sayı ** 2\n",
    "print(kareAl(2))"
   ]
  },
  {
   "cell_type": "code",
   "execution_count": 16,
   "metadata": {},
   "outputs": [
    {
     "name": "stdout",
     "output_type": "stream",
     "text": [
      "True\n"
     ]
    }
   ],
   "source": [
    "çiftmi = lambda sayı: sayı%2==0\n",
    "print(çiftmi(10))"
   ]
  },
  {
   "cell_type": "code",
   "execution_count": null,
   "metadata": {},
   "outputs": [],
   "source": [
    "degisken = 15 #global / evrensel değişken \n",
    "\n",
    "def deg():\n",
    "    degisken = 35 #local / yerel değişken\n",
    "    print(degisken)\n",
    "\n",
    "\n",
    "print(degisken)\n",
    "deg()\n",
    "print(degisken)"
   ]
  },
  {
   "cell_type": "code",
   "execution_count": 12,
   "metadata": {},
   "outputs": [
    {
     "name": "stdout",
     "output_type": "stream",
     "text": [
      "2\n"
     ]
    }
   ],
   "source": [
    "def epicFunc(a=12):\n",
    "    print(a//6)\n",
    "epicFunc(a = 20)"
   ]
  },
  {
   "cell_type": "code",
   "execution_count": 13,
   "metadata": {},
   "outputs": [
    {
     "name": "stdout",
     "output_type": "stream",
     "text": [
      "Alican 19\n"
     ]
    }
   ],
   "source": [
    "def epicFunc2(name,age=19):\n",
    "    print(name,age)\n",
    "epicFunc2(\"Alican\")"
   ]
  },
  {
   "cell_type": "code",
   "execution_count": null,
   "metadata": {},
   "outputs": [],
   "source": []
  }
 ],
 "metadata": {
  "kernelspec": {
   "display_name": "Python 3",
   "language": "python",
   "name": "python3"
  },
  "language_info": {
   "codemirror_mode": {
    "name": "ipython",
    "version": 3
   },
   "file_extension": ".py",
   "mimetype": "text/x-python",
   "name": "python",
   "nbconvert_exporter": "python",
   "pygments_lexer": "ipython3",
   "version": "3.8.5"
  }
 },
 "nbformat": 4,
 "nbformat_minor": 4
}
